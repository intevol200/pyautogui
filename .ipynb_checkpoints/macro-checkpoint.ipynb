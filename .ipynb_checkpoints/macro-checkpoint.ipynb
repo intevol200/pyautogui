{
 "cells": [
  {
   "cell_type": "code",
   "execution_count": 2,
   "metadata": {},
   "outputs": [],
   "source": [
    "import pyautogui\n",
    "import time\n",
    "\n",
    "for i in range(3):\n",
    "    pyautogui.moveTo(73,551,0.2)\n",
    "    pyautogui.click()\n",
    "    pyautogui.typewrite([\"enter\"])\n",
    "\n",
    "pyautogui.moveTo(1713,467,0.15)\n",
    "pyautogui.click()\n",
    "pyautogui.scroll(-100)\n",
    "\n",
    "pyautogui.click()\n",
    "time.sleep(0.5)\n",
    "pyautogui.typewrite([\"enter\"])\n",
    "\n",
    "pyautogui.moveTo(1831,254,0.15)\n",
    "\n",
    "pyautogui.click()\n",
    "pyautogui.typewrite([\"enter\"])"
   ]
  },
  {
   "cell_type": "code",
   "execution_count": 9,
   "metadata": {},
   "outputs": [
    {
     "data": {
      "text/plain": [
       "Point(x=787, y=616)"
      ]
     },
     "execution_count": 9,
     "metadata": {},
     "output_type": "execute_result"
    }
   ],
   "source": [
    "# 마우스 위치 설정\n",
    "pyautogui.position()"
   ]
  },
  {
   "cell_type": "code",
   "execution_count": 10,
   "metadata": {},
   "outputs": [],
   "source": [
    "# 마우스 이동\n",
    "pyautogui.moveTo(1713,467,0.15)"
   ]
  },
  {
   "cell_type": "code",
   "execution_count": null,
   "metadata": {},
   "outputs": [],
   "source": [
    "# 문자 입력\n",
    "pyautogui.typewrite(\"abc\")\n",
    "\n",
    "# 키보드 입력\n",
    "pyautogui.typewrite([\"enter\"])"
   ]
  },
  {
   "cell_type": "code",
   "execution_count": 3,
   "metadata": {},
   "outputs": [],
   "source": [
    "# 클릭 지정\n",
    "pyautogui.click()\n",
    "\n",
    "# 더블 클릭\n",
    "pyautogui.doubleClick()\n",
    "\n",
    "# n번 클릭\n",
    "pyautogui.click(clicks=2)"
   ]
  },
  {
   "cell_type": "code",
   "execution_count": 7,
   "metadata": {},
   "outputs": [],
   "source": [
    "# 스크롤 설정 (페이지 아래로 스크롤)\n",
    "pyautogui.scroll(-100)\n",
    "\n",
    "# 스크롤 설정 (페이지 위로 스크롤)\n",
    "pyautogui.scroll(100)"
   ]
  },
  {
   "cell_type": "code",
   "execution_count": null,
   "metadata": {},
   "outputs": [],
   "source": []
  }
 ],
 "metadata": {
  "kernelspec": {
   "display_name": "Python 3",
   "language": "python",
   "name": "python3"
  },
  "language_info": {
   "codemirror_mode": {
    "name": "ipython",
    "version": 3
   },
   "file_extension": ".py",
   "mimetype": "text/x-python",
   "name": "python",
   "nbconvert_exporter": "python",
   "pygments_lexer": "ipython3",
   "version": "3.8.3"
  }
 },
 "nbformat": 4,
 "nbformat_minor": 4
}
